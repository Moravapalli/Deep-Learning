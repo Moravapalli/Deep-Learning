{
  "cells": [
    {
      "cell_type": "code",
      "execution_count": null,
      "metadata": {
        "id": "oEuTqw1rbwFY"
      },
      "outputs": [],
      "source": [
        "import torch\n",
        "import torchvision\n",
        "import torch.nn as nn\n",
        "from torchvision import datasets, transforms\n",
        "from torch.utils.data import DataLoader, SubsetRandomSampler, sampler\n",
        "import torch.nn.functional as F\n",
        "import matplotlib.pyplot as plt"
      ]
    },
    {
      "cell_type": "code",
      "execution_count": null,
      "metadata": {
        "id": "VYRD10Ckepvr",
        "colab": {
          "base_uri": "https://localhost:8080/"
        },
        "outputId": "b50bda51-4454-42d5-904f-475325355977"
      },
      "outputs": [
        {
          "output_type": "execute_result",
          "data": {
            "text/plain": [
              "<torch._C.Generator at 0x7f20e306b3b0>"
            ]
          },
          "metadata": {},
          "execution_count": 4
        }
      ],
      "source": [
        "Random_seed =1\n",
        "torch.backends.cudnn.enabled = False\n",
        "torch.manual_seed(Random_seed)"
      ]
    },
    {
      "cell_type": "code",
      "source": [
        "train_transform = transforms.ToTensor()\n",
        "test_transform = transforms.ToTensor()"
      ],
      "metadata": {
        "id": "RUstjDcHrOer"
      },
      "execution_count": null,
      "outputs": []
    },
    {
      "cell_type": "code",
      "source": [
        "train_loader = DataLoader(datasets.MNIST(root='data',train=True,transform = train_transform,download=True),batch_size=32,num_workers=2, shuffle=True)\n",
        "test_loader = DataLoader(datasets.MNIST(root='data',train=False,transform = test_transform,download=True),batch_size=32,num_workers=2, shuffle=False)\n"
      ],
      "metadata": {
        "colab": {
          "base_uri": "https://localhost:8080/",
          "height": 423,
          "referenced_widgets": [
            "1a7b491b59aa4e55b2c96b695e4fb724",
            "ed63b44b114a4245a0b8eb502662e6b1",
            "0cf7a5756ab34bafa8fc63d9bfdfb73b",
            "448bc061725845f99ad99ed7af96911c",
            "fc5a62927d064c43b1f4c9e0a87fb9ae",
            "09ec6dae701d42a18502613b8fc89341",
            "99e821d3c95a41d99ff86ab1719da0ae",
            "413a6038847d48f2aa506d9c4f4947d4",
            "c228f6cea280495b87b21926e80d31a4",
            "23e06cae38b7491c91ac324fd2d93169",
            "86247fa62b554434a16bfb95757c7134",
            "c190eef18ad849e78a4180bfa94949d5",
            "aa46082b57b84dd8a71a681204c7686c",
            "7942c1eae66548d6b5cf513d38c1c8db",
            "ba07e34eb273444594223e77f01d30ba",
            "6fd17da535bb42a5846f14b515b7589c",
            "e1cf18e5a9f843f2b4ab3aecfd849cbe",
            "e9f54bdab6374275bf012994247028f6",
            "85b1bb9e9b5b47bba162bfb3aa390b67",
            "d2c9070f7342434691692bc8c224f5d7",
            "fa6ba9094b88459bab118d0a4dfb4c40",
            "7fa174e573d84aa09817e82f51725d42",
            "ae0d6355388f4785877268e0e521dac3",
            "e70e0e6ebd33439497315e5a52875116",
            "31baa7c07d324eff93441ee51f24a814",
            "8cc2f5d065f8409c9307001555312303",
            "2bb64ceec13e4bc096d4fd47f8ad5773",
            "c06193f37e6c40a8808f6cee3ff57435",
            "bb5d7cc0bbc848a89a205de8b6b30851",
            "3f5e23d6d48540aab8e1b502cff4891e",
            "2f4246b48dab42cebddf31b4f84db3d6",
            "5863cfa38d60420e9defc0395f60e7ec",
            "5fba9f2f5a714dd9a8dd0680cfc58d08",
            "972b26e6bf3e48f58d091f2ebe44a2a8",
            "f2a0e4e21c194844b33e93c85ce2c71e",
            "ac1b125b11c348149018fabac4daebc7",
            "e5ec0d9cb33b4aef97d5b5a9b003a897",
            "0060d2f3a287437eacca0a424bba2144",
            "d847e4d4b6df4b098a4beca1bfcda10f",
            "efedf81f73d243388b1f69843a152856",
            "ec554ee216fe46169db471ffd796a029",
            "1a3edf9a03df4d1688b115680d818663",
            "564d4a92bd49436984f8b3c0c44dd3ae",
            "9f21d3ad69dd4d6c95904072bc4fa36d"
          ]
        },
        "id": "g0SyV5X2pg6G",
        "outputId": "f52dd2bd-c806-4398-d4c3-4034b1e001c3"
      },
      "execution_count": null,
      "outputs": [
        {
          "output_type": "stream",
          "name": "stdout",
          "text": [
            "Downloading http://yann.lecun.com/exdb/mnist/train-images-idx3-ubyte.gz\n",
            "Downloading http://yann.lecun.com/exdb/mnist/train-images-idx3-ubyte.gz to data/MNIST/raw/train-images-idx3-ubyte.gz\n"
          ]
        },
        {
          "output_type": "display_data",
          "data": {
            "text/plain": [
              "  0%|          | 0/9912422 [00:00<?, ?it/s]"
            ],
            "application/vnd.jupyter.widget-view+json": {
              "version_major": 2,
              "version_minor": 0,
              "model_id": "1a7b491b59aa4e55b2c96b695e4fb724"
            }
          },
          "metadata": {}
        },
        {
          "output_type": "stream",
          "name": "stdout",
          "text": [
            "Extracting data/MNIST/raw/train-images-idx3-ubyte.gz to data/MNIST/raw\n",
            "\n",
            "Downloading http://yann.lecun.com/exdb/mnist/train-labels-idx1-ubyte.gz\n",
            "Downloading http://yann.lecun.com/exdb/mnist/train-labels-idx1-ubyte.gz to data/MNIST/raw/train-labels-idx1-ubyte.gz\n"
          ]
        },
        {
          "output_type": "display_data",
          "data": {
            "text/plain": [
              "  0%|          | 0/28881 [00:00<?, ?it/s]"
            ],
            "application/vnd.jupyter.widget-view+json": {
              "version_major": 2,
              "version_minor": 0,
              "model_id": "c190eef18ad849e78a4180bfa94949d5"
            }
          },
          "metadata": {}
        },
        {
          "output_type": "stream",
          "name": "stdout",
          "text": [
            "Extracting data/MNIST/raw/train-labels-idx1-ubyte.gz to data/MNIST/raw\n",
            "\n",
            "Downloading http://yann.lecun.com/exdb/mnist/t10k-images-idx3-ubyte.gz\n",
            "Downloading http://yann.lecun.com/exdb/mnist/t10k-images-idx3-ubyte.gz to data/MNIST/raw/t10k-images-idx3-ubyte.gz\n"
          ]
        },
        {
          "output_type": "display_data",
          "data": {
            "text/plain": [
              "  0%|          | 0/1648877 [00:00<?, ?it/s]"
            ],
            "application/vnd.jupyter.widget-view+json": {
              "version_major": 2,
              "version_minor": 0,
              "model_id": "ae0d6355388f4785877268e0e521dac3"
            }
          },
          "metadata": {}
        },
        {
          "output_type": "stream",
          "name": "stdout",
          "text": [
            "Extracting data/MNIST/raw/t10k-images-idx3-ubyte.gz to data/MNIST/raw\n",
            "\n",
            "Downloading http://yann.lecun.com/exdb/mnist/t10k-labels-idx1-ubyte.gz\n",
            "Downloading http://yann.lecun.com/exdb/mnist/t10k-labels-idx1-ubyte.gz to data/MNIST/raw/t10k-labels-idx1-ubyte.gz\n"
          ]
        },
        {
          "output_type": "display_data",
          "data": {
            "text/plain": [
              "  0%|          | 0/4542 [00:00<?, ?it/s]"
            ],
            "application/vnd.jupyter.widget-view+json": {
              "version_major": 2,
              "version_minor": 0,
              "model_id": "972b26e6bf3e48f58d091f2ebe44a2a8"
            }
          },
          "metadata": {}
        },
        {
          "output_type": "stream",
          "name": "stdout",
          "text": [
            "Extracting data/MNIST/raw/t10k-labels-idx1-ubyte.gz to data/MNIST/raw\n",
            "\n"
          ]
        }
      ]
    },
    {
      "cell_type": "code",
      "source": [
        "for images, labels in train_loader:\n",
        "  print(images.size())\n",
        "  print(labels.size())\n",
        "  print(labels[:10])\n",
        "  break"
      ],
      "metadata": {
        "colab": {
          "base_uri": "https://localhost:8080/"
        },
        "id": "_gRKbtIGtc3H",
        "outputId": "3af941be-89a8-448a-9668-227ccea6e43d"
      },
      "execution_count": null,
      "outputs": [
        {
          "output_type": "stream",
          "name": "stdout",
          "text": [
            "torch.Size([32, 1, 28, 28])\n",
            "torch.Size([32])\n",
            "tensor([4, 8, 8, 6, 7, 1, 0, 7, 1, 8])\n"
          ]
        }
      ]
    },
    {
      "cell_type": "code",
      "source": [
        "for val_img,val_label in test_loader:\n",
        "  print(val_img.size())\n",
        "  print(val_label.size())\n",
        "  break"
      ],
      "metadata": {
        "colab": {
          "base_uri": "https://localhost:8080/"
        },
        "id": "3A3yTxMdJGOe",
        "outputId": "fdc0be6e-65fe-4992-f7c9-af1ade6e9994"
      },
      "execution_count": null,
      "outputs": [
        {
          "output_type": "stream",
          "name": "stdout",
          "text": [
            "torch.Size([32, 1, 28, 28])\n",
            "torch.Size([32])\n"
          ]
        }
      ]
    },
    {
      "cell_type": "code",
      "source": [
        "fig = plt.figure()\n",
        "for i in range(6):\n",
        "  plt.subplot(2,3,i+1)\n",
        "  plt.imshow(images[i][0],cmap='gray',interpolation=\"None\")\n"
      ],
      "metadata": {
        "colab": {
          "base_uri": "https://localhost:8080/",
          "height": 267
        },
        "id": "BmhIWqnEKEyy",
        "outputId": "9ef9d0dc-7e57-486b-d17e-d1a175554d8c"
      },
      "execution_count": null,
      "outputs": [
        {
          "output_type": "display_data",
          "data": {
            "text/plain": [
              "<Figure size 432x288 with 6 Axes>"
            ],
            "image/png": "[encoded data removed]"
          },
          "metadata": {
            "needs_background": "light"
          }
        }
      ]
    },
    {
      "cell_type": "code",
      "source": [
        "class Reshape(nn.Module):\n",
        "  def __init__(self,*args) -> None:\n",
        "      super().__init__()\n",
        "      self.shape =args\n",
        "\n",
        "  def forward(self,x):\n",
        "    return x.view(self.shape)\n",
        "\n",
        "class Trim(nn.Module):\n",
        "  def __init__(self,*args):\n",
        "      super().__init__()\n",
        "      \n",
        "  def forward(self,x):\n",
        "    return x[:,:,:28,:28]\n"
      ],
      "metadata": {
        "id": "LyRXioqSNBLe"
      },
      "execution_count": null,
      "outputs": []
    },
    {
      "cell_type": "code",
      "source": [
        "from torch.nn.modules.activation import LeakyReLU\n",
        "class Autoencoder(nn.Module):\n",
        "  def __init__(self):\n",
        "    super().__init__()\n",
        "\n",
        "    self.encoder = nn.Sequential(\n",
        "        nn.Conv2d(1,32,kernel_size=(3,3),stride=(1,1),padding=1),\n",
        "        nn.LeakyReLU(0.01),\n",
        "        nn.Conv2d(32,64,kernel_size=(3,3),stride=(2,2),padding=1),\n",
        "        nn.LeakyReLU(0.01),\n",
        "        nn.Conv2d(64,64,kernel_size=(3,3),stride=(2,2),padding=1),\n",
        "        nn.LeakyReLU(0.01),\n",
        "        nn.Conv2d(64,64,kernel_size=(3,3),stride=(1,1),padding=1),\n",
        "        nn.Flatten(),\n",
        "        nn.Linear(64*7*7, 2)\n",
        "\n",
        "    )\n",
        "\n",
        "    self.decoder = nn.Sequential(\n",
        "        torch.nn.Linear(2,64*7*7),\n",
        "        Reshape(-1,64,7,7),\n",
        "        nn.ConvTranspose2d(64,64,stride=(1,1),kernel_size=(3,3),padding=1),\n",
        "        nn.LeakyReLU(0.01),\n",
        "        nn.ConvTranspose2d(64,64,stride=(2,2),kernel_size=(3,3),padding=1),\n",
        "        nn.LeakyReLU(0.01),\n",
        "        nn.ConvTranspose2d(64,32,stride=(2,2),kernel_size=(3,3),padding=0),\n",
        "        nn.LeakyReLU(0.01),\n",
        "        nn.ConvTranspose2d(32,1,stride=(1,1),kernel_size=(3,3),padding=0),\n",
        "        Trim(),\n",
        "        nn.Sigmoid()\n",
        "\n",
        "    )\n",
        "\n",
        "  def forward(self,x):\n",
        "    x = self.encoder(x)\n",
        "    x = self.decoder(x)\n",
        "    return x"
      ],
      "metadata": {
        "id": "t3SAxDYITvJx"
      },
      "execution_count": null,
      "outputs": []
    },
    {
      "cell_type": "code",
      "source": [
        "DEVICE = torch.device('cuda:0')\n",
        "model = Autoencoder()\n",
        "model.to(DEVICE)\n",
        "\n",
        "from torchsummary import summary\n",
        "summary(model,(1,28,28))"
      ],
      "metadata": {
        "colab": {
          "base_uri": "https://localhost:8080/"
        },
        "id": "FKmbNKxJZ9q7",
        "outputId": "317b0e25-e3be-4acf-8756-de255b87fbaa"
      },
      "execution_count": null,
      "outputs": [
        {
          "output_type": "stream",
          "name": "stdout",
          "text": [
            "----------------------------------------------------------------\n",
            "        Layer (type)               Output Shape         Param #\n",
            "================================================================\n",
            "            Conv2d-1           [-1, 32, 28, 28]             320\n",
            "         LeakyReLU-2           [-1, 32, 28, 28]               0\n",
            "            Conv2d-3           [-1, 64, 14, 14]          18,496\n",
            "         LeakyReLU-4           [-1, 64, 14, 14]               0\n",
            "            Conv2d-5             [-1, 64, 7, 7]          36,928\n",
            "         LeakyReLU-6             [-1, 64, 7, 7]               0\n",
            "            Conv2d-7             [-1, 64, 7, 7]          36,928\n",
            "           Flatten-8                 [-1, 3136]               0\n",
            "            Linear-9                    [-1, 2]           6,274\n",
            "           Linear-10                 [-1, 3136]           9,408\n",
            "          Reshape-11             [-1, 64, 7, 7]               0\n",
            "  ConvTranspose2d-12             [-1, 64, 7, 7]          36,928\n",
            "        LeakyReLU-13             [-1, 64, 7, 7]               0\n",
            "  ConvTranspose2d-14           [-1, 64, 13, 13]          36,928\n",
            "        LeakyReLU-15           [-1, 64, 13, 13]               0\n",
            "  ConvTranspose2d-16           [-1, 32, 27, 27]          18,464\n",
            "        LeakyReLU-17           [-1, 32, 27, 27]               0\n",
            "  ConvTranspose2d-18            [-1, 1, 29, 29]             289\n",
            "             Trim-19            [-1, 1, 28, 28]               0\n",
            "          Sigmoid-20            [-1, 1, 28, 28]               0\n",
            "================================================================\n",
            "Total params: 200,963\n",
            "Trainable params: 200,963\n",
            "Non-trainable params: 0\n",
            "----------------------------------------------------------------\n",
            "Input size (MB): 0.00\n",
            "Forward/backward pass size (MB): 1.31\n",
            "Params size (MB): 0.77\n",
            "Estimated Total Size (MB): 2.07\n",
            "----------------------------------------------------------------\n"
          ]
        }
      ]
    },
    {
      "cell_type": "code",
      "source": [
        "optimizer = torch.optim.Adam(model.parameters(), lr = 0.0001)"
      ],
      "metadata": {
        "id": "4kgXMoCnaFdG"
      },
      "execution_count": null,
      "outputs": []
    },
    {
      "cell_type": "code",
      "source": [
        "from torch import optim\n",
        "import time\n",
        "\n",
        "def compute_accuracy(model, data_loader, device):\n",
        "    model.eval()\n",
        "    with torch.no_grad():\n",
        "        correct_pred, num_examples = 0, 0\n",
        "        for i, (features, targets) in enumerate(data_loader):\n",
        "\n",
        "            features = features.to(device)\n",
        "            targets = targets.to(device)\n",
        "\n",
        "            logits = model(features)\n",
        "            _, predicted_labels = torch.max(logits, 1)\n",
        "            num_examples += targets.size(0)\n",
        "            correct_pred += (predicted_labels == targets).sum()\n",
        "    return correct_pred.float()/num_examples * 100\n",
        "\n",
        "def compute_epoch_loss_classifier(model, data_loader, loss_fn, device):\n",
        "    model.eval()\n",
        "    curr_loss, num_examples = 0., 0\n",
        "    with torch.no_grad():\n",
        "        for features, targets in data_loader:\n",
        "            features = features.to(device)\n",
        "            targets = targets.to(device)\n",
        "            logits = model(features)\n",
        "            loss = loss_fn(logits, targets, reduction='sum')\n",
        "            num_examples += targets.size(0)\n",
        "            curr_loss += loss\n",
        "\n",
        "        curr_loss = curr_loss / num_examples\n",
        "        return curr_loss\n",
        "    \n",
        "def train_autoencoder(num_epochs,model,optimizer,device, train_loader,\n",
        "                      loss_fn =None, \n",
        "                      logging_interval= 100,\n",
        "                      skip_epoch_stats =False,\n",
        "                      save_model = None):\n",
        "  \n",
        "  log_dict = {'train_loss_per_batch': [],\n",
        "                'train_loss_per_epoch': []}\n",
        "\n",
        "  if loss_fn is None:\n",
        "    loss_fn = F.mse_loss\n",
        "\n",
        "  start_time = time.time()\n",
        "  for epoch in range(num_epochs):\n",
        "\n",
        "      model.train()\n",
        "      for batch_idx, (features, _) in enumerate(train_loader):\n",
        "\n",
        "          features = features.to(device)\n",
        "\n",
        "          # FORWARD AND BACK PROP\n",
        "          logits = model(features)\n",
        "          loss = loss_fn(logits, features)\n",
        "          optimizer.zero_grad()\n",
        "\n",
        "          loss.backward()\n",
        "\n",
        "          # UPDATE MODEL PARAMETERS\n",
        "          optimizer.step()\n",
        "\n",
        "          # LOGGING\n",
        "          log_dict['train_loss_per_batch'].append(loss.item())\n",
        "          \n",
        "          if not batch_idx % logging_interval:\n",
        "              print('Epoch: %03d/%03d | Batch %04d/%04d | Loss: %.4f'\n",
        "                    % (epoch+1, num_epochs, batch_idx,\n",
        "                        len(train_loader), loss))\n",
        "      if not skip_epoch_stats:\n",
        "            model.eval()\n",
        "            \n",
        "            with torch.set_grad_enabled(False):  # save memory during inference\n",
        "                \n",
        "                train_loss = compute_epoch_loss_autoencoder(\n",
        "                    model, train_loader, loss_fn, device)\n",
        "                print('***Epoch: %03d/%03d | Loss: %.3f' % (\n",
        "                      epoch+1, num_epochs, train_loss))\n",
        "                log_dict['train_loss_per_epoch'].append(train_loss.item())\n",
        "\n",
        "      print('Time elapsed: %.2f min' % ((time.time() - start_time)/60))\n",
        "\n",
        "  print('Total Training Time: %.2f min' % ((time.time() - start_time)/60))\n",
        "  '''if save_model is not None:\n",
        "        torch.save(model.state_dict(), save_model)'''\n",
        "    \n",
        "  return log_dict\n",
        "\n",
        "    "
      ],
      "metadata": {
        "id": "0sxBIDeyc8rI"
      },
      "execution_count": null,
      "outputs": []
    },
    {
      "cell_type": "code",
      "source": [
        "\n",
        "from torch import cuda\n",
        "\n",
        "DEVICE = torch.device('cuda:0')\n",
        "print('Device:', DEVICE)\n",
        "log_dict = train_autoencoder(num_epochs=10, model=model, \n",
        "                                optimizer=optimizer, device=DEVICE, \n",
        "                                train_loader=train_loader,\n",
        "                                skip_epoch_stats=True,\n",
        "                                logging_interval=250)"
      ],
      "metadata": {
        "colab": {
          "base_uri": "https://localhost:8080/"
        },
        "id": "fusbuLpUhi2f",
        "outputId": "5d1bb288-02a6-4705-8c5c-07ce1ee1dec6"
      },
      "execution_count": null,
      "outputs": [
        {
          "output_type": "stream",
          "name": "stdout",
          "text": [
            "Device: cuda:0\n",
            "Epoch: 001/010 | Batch 0000/1875 | Loss: 0.0527\n",
            "Epoch: 001/010 | Batch 0250/1875 | Loss: 0.0460\n",
            "Epoch: 001/010 | Batch 0500/1875 | Loss: 0.0509\n",
            "Epoch: 001/010 | Batch 0750/1875 | Loss: 0.0527\n",
            "Epoch: 001/010 | Batch 1000/1875 | Loss: 0.0482\n",
            "Epoch: 001/010 | Batch 1250/1875 | Loss: 0.0448\n",
            "Epoch: 001/010 | Batch 1500/1875 | Loss: 0.0453\n",
            "Epoch: 001/010 | Batch 1750/1875 | Loss: 0.0440\n",
            "Time elapsed: 0.56 min\n",
            "Epoch: 002/010 | Batch 0000/1875 | Loss: 0.0475\n",
            "Epoch: 002/010 | Batch 0250/1875 | Loss: 0.0398\n",
            "Epoch: 002/010 | Batch 0500/1875 | Loss: 0.0496\n",
            "Epoch: 002/010 | Batch 0750/1875 | Loss: 0.0479\n",
            "Epoch: 002/010 | Batch 1000/1875 | Loss: 0.0435\n",
            "Epoch: 002/010 | Batch 1250/1875 | Loss: 0.0441\n",
            "Epoch: 002/010 | Batch 1500/1875 | Loss: 0.0427\n",
            "Epoch: 002/010 | Batch 1750/1875 | Loss: 0.0427\n",
            "Time elapsed: 1.12 min\n",
            "Epoch: 003/010 | Batch 0000/1875 | Loss: 0.0442\n",
            "Epoch: 003/010 | Batch 0250/1875 | Loss: 0.0458\n",
            "Epoch: 003/010 | Batch 0500/1875 | Loss: 0.0465\n",
            "Epoch: 003/010 | Batch 0750/1875 | Loss: 0.0385\n",
            "Epoch: 003/010 | Batch 1000/1875 | Loss: 0.0428\n",
            "Epoch: 003/010 | Batch 1250/1875 | Loss: 0.0434\n",
            "Epoch: 003/010 | Batch 1500/1875 | Loss: 0.0425\n",
            "Epoch: 003/010 | Batch 1750/1875 | Loss: 0.0438\n",
            "Time elapsed: 1.68 min\n",
            "Epoch: 004/010 | Batch 0000/1875 | Loss: 0.0416\n",
            "Epoch: 004/010 | Batch 0250/1875 | Loss: 0.0423\n",
            "Epoch: 004/010 | Batch 0500/1875 | Loss: 0.0474\n",
            "Epoch: 004/010 | Batch 0750/1875 | Loss: 0.0435\n",
            "Epoch: 004/010 | Batch 1000/1875 | Loss: 0.0455\n",
            "Epoch: 004/010 | Batch 1250/1875 | Loss: 0.0445\n",
            "Epoch: 004/010 | Batch 1500/1875 | Loss: 0.0432\n",
            "Epoch: 004/010 | Batch 1750/1875 | Loss: 0.0446\n",
            "Time elapsed: 2.24 min\n",
            "Epoch: 005/010 | Batch 0000/1875 | Loss: 0.0494\n",
            "Epoch: 005/010 | Batch 0250/1875 | Loss: 0.0423\n",
            "Epoch: 005/010 | Batch 0500/1875 | Loss: 0.0428\n",
            "Epoch: 005/010 | Batch 0750/1875 | Loss: 0.0429\n",
            "Epoch: 005/010 | Batch 1000/1875 | Loss: 0.0395\n",
            "Epoch: 005/010 | Batch 1250/1875 | Loss: 0.0430\n",
            "Epoch: 005/010 | Batch 1500/1875 | Loss: 0.0427\n",
            "Epoch: 005/010 | Batch 1750/1875 | Loss: 0.0429\n",
            "Time elapsed: 2.79 min\n",
            "Epoch: 006/010 | Batch 0000/1875 | Loss: 0.0387\n",
            "Epoch: 006/010 | Batch 0250/1875 | Loss: 0.0475\n",
            "Epoch: 006/010 | Batch 0500/1875 | Loss: 0.0409\n",
            "Epoch: 006/010 | Batch 0750/1875 | Loss: 0.0411\n",
            "Epoch: 006/010 | Batch 1000/1875 | Loss: 0.0384\n",
            "Epoch: 006/010 | Batch 1250/1875 | Loss: 0.0474\n",
            "Epoch: 006/010 | Batch 1500/1875 | Loss: 0.0456\n",
            "Epoch: 006/010 | Batch 1750/1875 | Loss: 0.0374\n",
            "Time elapsed: 3.35 min\n",
            "Epoch: 007/010 | Batch 0000/1875 | Loss: 0.0463\n",
            "Epoch: 007/010 | Batch 0250/1875 | Loss: 0.0443\n",
            "Epoch: 007/010 | Batch 0500/1875 | Loss: 0.0475\n",
            "Epoch: 007/010 | Batch 0750/1875 | Loss: 0.0400\n",
            "Epoch: 007/010 | Batch 1000/1875 | Loss: 0.0377\n",
            "Epoch: 007/010 | Batch 1250/1875 | Loss: 0.0427\n",
            "Epoch: 007/010 | Batch 1500/1875 | Loss: 0.0467\n",
            "Epoch: 007/010 | Batch 1750/1875 | Loss: 0.0446\n",
            "Time elapsed: 3.91 min\n",
            "Epoch: 008/010 | Batch 0000/1875 | Loss: 0.0438\n",
            "Epoch: 008/010 | Batch 0250/1875 | Loss: 0.0409\n",
            "Epoch: 008/010 | Batch 0500/1875 | Loss: 0.0393\n",
            "Epoch: 008/010 | Batch 0750/1875 | Loss: 0.0384\n",
            "Epoch: 008/010 | Batch 1000/1875 | Loss: 0.0427\n",
            "Epoch: 008/010 | Batch 1250/1875 | Loss: 0.0443\n",
            "Epoch: 008/010 | Batch 1500/1875 | Loss: 0.0355\n",
            "Epoch: 008/010 | Batch 1750/1875 | Loss: 0.0442\n",
            "Time elapsed: 4.48 min\n",
            "Epoch: 009/010 | Batch 0000/1875 | Loss: 0.0434\n",
            "Epoch: 009/010 | Batch 0250/1875 | Loss: 0.0413\n",
            "Epoch: 009/010 | Batch 0500/1875 | Loss: 0.0383\n",
            "Epoch: 009/010 | Batch 0750/1875 | Loss: 0.0414\n",
            "Epoch: 009/010 | Batch 1000/1875 | Loss: 0.0414\n",
            "Epoch: 009/010 | Batch 1250/1875 | Loss: 0.0406\n",
            "Epoch: 009/010 | Batch 1500/1875 | Loss: 0.0417\n",
            "Epoch: 009/010 | Batch 1750/1875 | Loss: 0.0445\n",
            "Time elapsed: 5.03 min\n",
            "Epoch: 010/010 | Batch 0000/1875 | Loss: 0.0446\n",
            "Epoch: 010/010 | Batch 0250/1875 | Loss: 0.0435\n",
            "Epoch: 010/010 | Batch 0500/1875 | Loss: 0.0452\n",
            "Epoch: 010/010 | Batch 0750/1875 | Loss: 0.0386\n",
            "Epoch: 010/010 | Batch 1000/1875 | Loss: 0.0402\n",
            "Epoch: 010/010 | Batch 1250/1875 | Loss: 0.0401\n",
            "Epoch: 010/010 | Batch 1500/1875 | Loss: 0.0417\n",
            "Epoch: 010/010 | Batch 1750/1875 | Loss: 0.0400\n",
            "Time elapsed: 5.58 min\n",
            "Total Training Time: 5.58 min\n"
          ]
        }
      ]
    },
    {
      "cell_type": "code",
      "source": [
        "import numpy as np\n",
        "\n",
        "def plot_training_loss(minibatch_losses, num_epochs, averaging_iterations=100, custom_label=''):\n",
        "\n",
        "    iter_per_epoch = len(minibatch_losses) // num_epochs\n",
        "\n",
        "    plt.figure()\n",
        "    ax1 = plt.subplot(1, 1, 1)\n",
        "    ax1.plot(range(len(minibatch_losses)),\n",
        "             (minibatch_losses), label=f'Minibatch Loss{custom_label}')\n",
        "    ax1.set_xlabel('Iterations')\n",
        "    ax1.set_ylabel('Loss')\n",
        "\n",
        "    if len(minibatch_losses) < 1000:\n",
        "        num_losses = len(minibatch_losses) // 2\n",
        "    else:\n",
        "        num_losses = 1000\n",
        "\n",
        "    ax1.set_ylim([\n",
        "        0, np.max(minibatch_losses[num_losses:])*1.5\n",
        "        ])\n",
        "\n",
        "    ax1.plot(np.convolve(minibatch_losses,\n",
        "                         np.ones(averaging_iterations,)/averaging_iterations,\n",
        "                         mode='valid'),\n",
        "             label=f'Running Average{custom_label}')\n",
        "    ax1.legend()\n",
        "\n",
        "    ###################\n",
        "    # Set scond x-axis\n",
        "    ax2 = ax1.twiny()\n",
        "    newlabel = list(range(num_epochs+1))\n",
        "\n",
        "    newpos = [e*iter_per_epoch for e in newlabel]\n",
        "\n",
        "    ax2.set_xticks(newpos[::10])\n",
        "    ax2.set_xticklabels(newlabel[::10])\n",
        "\n",
        "    ax2.xaxis.set_ticks_position('bottom')\n",
        "    ax2.xaxis.set_label_position('bottom')\n",
        "    ax2.spines['bottom'].set_position(('outward', 45))\n",
        "    ax2.set_xlabel('Epochs')\n",
        "    ax2.set_xlim(ax1.get_xlim())\n",
        "    ###################\n",
        "\n",
        "    plt.tight_layout()"
      ],
      "metadata": {
        "id": "OjO37tOXh0Fj"
      },
      "execution_count": null,
      "outputs": []
    },
    {
      "cell_type": "code",
      "source": [
        "NUM_EPOCHS = 10\n",
        "plot_training_loss(log_dict['train_loss_per_batch'], NUM_EPOCHS)\n",
        "plt.show()"
      ],
      "metadata": {
        "colab": {
          "base_uri": "https://localhost:8080/",
          "height": 297
        },
        "id": "HucKcuJ2r2Fe",
        "outputId": "f86c4f2f-0b6b-4dd4-c34b-db519a4e0a13"
      },
      "execution_count": null,
      "outputs": [
        {
          "output_type": "display_data",
          "data": {
            "text/plain": [
              "<Figure size 432x288 with 2 Axes>"
            ],
            "image/png": "[encoded data removed]"
          },
          "metadata": {
            "needs_background": "light"
          }
        }
      ]
    },
    {
      "cell_type": "code",
      "source": [
        "def plot_generated_images(data_loader, model, device, \n",
        "                          unnormalizer=None,\n",
        "                          figsize=(20, 2.5), n_images=15, modeltype='autoencoder'):\n",
        "\n",
        "    fig, axes = plt.subplots(nrows=2, ncols=n_images, \n",
        "                             sharex=True, sharey=True, figsize=figsize)\n",
        "    \n",
        "    for batch_idx, (features, _) in enumerate(data_loader):\n",
        "        \n",
        "        features = features.to(device)\n",
        "\n",
        "        color_channels = features.shape[1]\n",
        "        image_height = features.shape[2]\n",
        "        image_width = features.shape[3]\n",
        "        \n",
        "        with torch.no_grad():\n",
        "            if modeltype == 'autoencoder':\n",
        "                decoded_images = model(features)[:n_images]\n",
        "            elif modeltype == 'VAE':\n",
        "                encoded, z_mean, z_log_var, decoded_images = model(features)[:n_images]\n",
        "            else:\n",
        "                raise ValueError('`modeltype` not supported')\n",
        "\n",
        "        orig_images = features[:n_images]\n",
        "        break\n",
        "\n",
        "    for i in range(n_images):\n",
        "        for ax, img in zip(axes, [orig_images, decoded_images]):\n",
        "            curr_img = img[i].detach().to(torch.device('cpu'))        \n",
        "            if unnormalizer is not None:\n",
        "                curr_img = unnormalizer(curr_img)\n",
        "\n",
        "            if color_channels > 1:\n",
        "                curr_img = np.transpose(curr_img, (1, 2, 0))\n",
        "                ax[i].imshow(curr_img)\n",
        "            else:\n",
        "                ax[i].imshow(curr_img.view((image_height, image_width)), cmap='binary')\n"
      ],
      "metadata": {
        "id": "hZvq63OGsBQo"
      },
      "execution_count": null,
      "outputs": []
    },
    {
      "cell_type": "code",
      "source": [
        "plot_generated_images(data_loader=train_loader, model=model, device=DEVICE)   "
      ],
      "metadata": {
        "colab": {
          "base_uri": "https://localhost:8080/",
          "height": 187
        },
        "id": "-7sFy4d5sTZ3",
        "outputId": "a25acb2e-028b-4cb9-afa8-f265e263370f"
      },
      "execution_count": null,
      "outputs": [
        {
          "output_type": "display_data",
          "data": {
            "text/plain": [
              "<Figure size 1440x180 with 30 Axes>"
            ],
            "image/png": "[encoded data removed]"
          },
          "metadata": {
            "needs_background": "light"
          }
        }
      ]
    },
    {
      "cell_type": "code",
      "source": [
        "def plot_latent_space_with_labels(num_classes, data_loader, model, device):\n",
        "    d = {i:[] for i in range(num_classes)}\n",
        "\n",
        "    model.eval()\n",
        "    with torch.no_grad():\n",
        "        for i, (features, targets) in enumerate(data_loader):\n",
        "\n",
        "            features = features.to(device)\n",
        "            targets = targets.to(device)\n",
        "            embedding = model.encoder(features)\n",
        "            #print(\"embedding\",embedding.size())\n",
        "            #print(embedding)\n",
        "            \n",
        "            for i in range(num_classes):\n",
        "                if i in targets:\n",
        "                    mask = targets == i\n",
        "                    #print('i',i)\n",
        "                    #print('mak',mask)\n",
        "                    #print('tragets',targets[20])\n",
        "                    #print(embedding[mask].size())\n",
        "                    d[i].append(embedding[mask].to('cpu').numpy())\n",
        "            \n",
        "    colors = list(mcolors.TABLEAU_COLORS.items())\n",
        "    for i in range(num_classes):\n",
        "        d[i] = np.concatenate(d[i])\n",
        "        plt.scatter(\n",
        "            d[i][:, 0], d[i][:, 1],\n",
        "            color=colors[i][1],\n",
        "            label=f'{i}',\n",
        "            alpha=0.5)\n",
        "\n",
        "    plt.legend()"
      ],
      "metadata": {
        "id": "amnQkeQJsVgf"
      },
      "execution_count": null,
      "outputs": []
    },
    {
      "cell_type": "code",
      "source": [
        "import matplotlib.colors as mcolors\n",
        "plot_latent_space_with_labels(\n",
        "    num_classes=10,\n",
        "    data_loader=train_loader,\n",
        "    model=model, \n",
        "    device=DEVICE)\n",
        "\n",
        "plt.legend()\n",
        "plt.show()"
      ],
      "metadata": {
        "colab": {
          "base_uri": "https://localhost:8080/",
          "height": 265
        },
        "id": "V06QvLquscd-",
        "outputId": "76449603-4528-460b-eb6d-7864bf84f4fa"
      },
      "execution_count": null,
      "outputs": [
        {
          "output_type": "display_data",
          "data": {
            "text/plain": [
              "<Figure size 432x288 with 1 Axes>"
            ],
            "image/png": "[encoded data removed]"
          },
          "metadata": {
            "needs_background": "light"
          }
        }
      ]
    },
    {
      "cell_type": "code",
      "source": [
        "with torch.no_grad():\n",
        "    new_image = model.decoder(torch.tensor([5, 0.0]).to(DEVICE))\n",
        "    new_image.squeeze_(0)\n",
        "    new_image.squeeze_(0)\n",
        "plt.imshow(new_image.to('cpu').numpy(), cmap='binary')\n",
        "plt.show()"
      ],
      "metadata": {
        "colab": {
          "base_uri": "https://localhost:8080/",
          "height": 265
        },
        "id": "Ziurgrj5seoi",
        "outputId": "4a40c90d-32a4-4193-a333-f7633bccdad4"
      },
      "execution_count": null,
      "outputs": [
        {
          "output_type": "display_data",
          "data": {
            "text/plain": [
              "<Figure size 432x288 with 1 Axes>"
            ],
            "image/png": "[encoded data removed]"
          },
          "metadata": {
            "needs_background": "light"
          }
        }
      ]
    },
    {
      "cell_type": "code",
      "source": [],
      "metadata": {
        "id": "D5hWVC07tCMg"
      },
      "execution_count": null,
      "outputs": []
    }
  ],
  "metadata": {
    "colab": {
      "provenance": []
    },
    "kernelspec": {
      "display_name": "Python 3",
      "name": "python3"
    },
    "language_info": {
      "name": "python"
    },
    "accelerator": "GPU",
    "gpuClass": "standard",
    "widgets": {
      "application/vnd.jupyter.widget-state+json": {
        "1a7b491b59aa4e55b2c96b695e4fb724": {
          "model_module": "@jupyter-widgets/controls",
          "model_name": "HBoxModel",
          "model_module_version": "1.5.0",
          "state": {
            "_dom_classes": [],
            "_model_module": "@jupyter-widgets/controls",
            "_model_module_version": "1.5.0",
            "_model_name": "HBoxModel",
            "_view_count": null,
            "_view_module": "@jupyter-widgets/controls",
            "_view_module_version": "1.5.0",
            "_view_name": "HBoxView",
            "box_style": "",
            "children": [
              "IPY_MODEL_ed63b44b114a4245a0b8eb502662e6b1",
              "IPY_MODEL_0cf7a5756ab34bafa8fc63d9bfdfb73b",
              "IPY_MODEL_448bc061725845f99ad99ed7af96911c"
            ],
            "layout": "IPY_MODEL_fc5a62927d064c43b1f4c9e0a87fb9ae"
          }
        },
        "ed63b44b114a4245a0b8eb502662e6b1": {
          "model_module": "@jupyter-widgets/controls",
          "model_name": "HTMLModel",
          "model_module_version": "1.5.0",
          "state": {
            "_dom_classes": [],
            "_model_module": "@jupyter-widgets/controls",
            "_model_module_version": "1.5.0",
            "_model_name": "HTMLModel",
            "_view_count": null,
            "_view_module": "@jupyter-widgets/controls",
            "_view_module_version": "1.5.0",
            "_view_name": "HTMLView",
            "description": "",
            "description_tooltip": null,
            "layout": "IPY_MODEL_09ec6dae701d42a18502613b8fc89341",
            "placeholder": "​",
            "style": "IPY_MODEL_99e821d3c95a41d99ff86ab1719da0ae",
            "value": ""
          }
        },
        "0cf7a5756ab34bafa8fc63d9bfdfb73b": {
          "model_module": "@jupyter-widgets/controls",
          "model_name": "FloatProgressModel",
          "model_module_version": "1.5.0",
          "state": {
            "_dom_classes": [],
            "_model_module": "@jupyter-widgets/controls",
            "_model_module_version": "1.5.0",
            "_model_name": "FloatProgressModel",
            "_view_count": null,
            "_view_module": "@jupyter-widgets/controls",
            "_view_module_version": "1.5.0",
            "_view_name": "ProgressView",
            "bar_style": "success",
            "description": "",
            "description_tooltip": null,
            "layout": "IPY_MODEL_413a6038847d48f2aa506d9c4f4947d4",
            "max": 9912422,
            "min": 0,
            "orientation": "horizontal",
            "style": "IPY_MODEL_c228f6cea280495b87b21926e80d31a4",
            "value": 9912422
          }
        },
        "448bc061725845f99ad99ed7af96911c": {
          "model_module": "@jupyter-widgets/controls",
          "model_name": "HTMLModel",
          "model_module_version": "1.5.0",
          "state": {
            "_dom_classes": [],
            "_model_module": "@jupyter-widgets/controls",
            "_model_module_version": "1.5.0",
            "_model_name": "HTMLModel",
            "_view_count": null,
            "_view_module": "@jupyter-widgets/controls",
            "_view_module_version": "1.5.0",
            "_view_name": "HTMLView",
            "description": "",
            "description_tooltip": null,
            "layout": "IPY_MODEL_23e06cae38b7491c91ac324fd2d93169",
            "placeholder": "​",
            "style": "IPY_MODEL_86247fa62b554434a16bfb95757c7134",
            "value": " 9913344/? [00:00&lt;00:00, 48066896.99it/s]"
          }
        },
        "fc5a62927d064c43b1f4c9e0a87fb9ae": {
          "model_module": "@jupyter-widgets/base",
          "model_name": "LayoutModel",
          "model_module_version": "1.2.0",
          "state": {
            "_model_module": "@jupyter-widgets/base",
            "_model_module_version": "1.2.0",
            "_model_name": "LayoutModel",
            "_view_count": null,
            "_view_module": "@jupyter-widgets/base",
            "_view_module_version": "1.2.0",
            "_view_name": "LayoutView",
            "align_content": null,
            "align_items": null,
            "align_self": null,
            "border": null,
            "bottom": null,
            "display": null,
            "flex": null,
            "flex_flow": null,
            "grid_area": null,
            "grid_auto_columns": null,
            "grid_auto_flow": null,
            "grid_auto_rows": null,
            "grid_column": null,
            "grid_gap": null,
            "grid_row": null,
            "grid_template_areas": null,
            "grid_template_columns": null,
            "grid_template_rows": null,
            "height": null,
            "justify_content": null,
            "justify_items": null,
            "left": null,
            "margin": null,
            "max_height": null,
            "max_width": null,
            "min_height": null,
            "min_width": null,
            "object_fit": null,
            "object_position": null,
            "order": null,
            "overflow": null,
            "overflow_x": null,
            "overflow_y": null,
            "padding": null,
            "right": null,
            "top": null,
            "visibility": null,
            "width": null
          }
        },
        "09ec6dae701d42a18502613b8fc89341": {
          "model_module": "@jupyter-widgets/base",
          "model_name": "LayoutModel",
          "model_module_version": "1.2.0",
          "state": {
            "_model_module": "@jupyter-widgets/base",
            "_model_module_version": "1.2.0",
            "_model_name": "LayoutModel",
            "_view_count": null,
            "_view_module": "@jupyter-widgets/base",
            "_view_module_version": "1.2.0",
            "_view_name": "LayoutView",
            "align_content": null,
            "align_items": null,
            "align_self": null,
            "border": null,
            "bottom": null,
            "display": null,
            "flex": null,
            "flex_flow": null,
            "grid_area": null,
            "grid_auto_columns": null,
            "grid_auto_flow": null,
            "grid_auto_rows": null,
            "grid_column": null,
            "grid_gap": null,
            "grid_row": null,
            "grid_template_areas": null,
            "grid_template_columns": null,
            "grid_template_rows": null,
            "height": null,
            "justify_content": null,
            "justify_items": null,
            "left": null,
            "margin": null,
            "max_height": null,
            "max_width": null,
            "min_height": null,
            "min_width": null,
            "object_fit": null,
            "object_position": null,
            "order": null,
            "overflow": null,
            "overflow_x": null,
            "overflow_y": null,
            "padding": null,
            "right": null,
            "top": null,
            "visibility": null,
            "width": null
          }
        },
        "99e821d3c95a41d99ff86ab1719da0ae": {
          "model_module": "@jupyter-widgets/controls",
          "model_name": "DescriptionStyleModel",
          "model_module_version": "1.5.0",
          "state": {
            "_model_module": "@jupyter-widgets/controls",
            "_model_module_version": "1.5.0",
            "_model_name": "DescriptionStyleModel",
            "_view_count": null,
            "_view_module": "@jupyter-widgets/base",
            "_view_module_version": "1.2.0",
            "_view_name": "StyleView",
            "description_width": ""
          }
        },
        "413a6038847d48f2aa506d9c4f4947d4": {
          "model_module": "@jupyter-widgets/base",
          "model_name": "LayoutModel",
          "model_module_version": "1.2.0",
          "state": {
            "_model_module": "@jupyter-widgets/base",
            "_model_module_version": "1.2.0",
            "_model_name": "LayoutModel",
            "_view_count": null,
            "_view_module": "@jupyter-widgets/base",
            "_view_module_version": "1.2.0",
            "_view_name": "LayoutView",
            "align_content": null,
            "align_items": null,
            "align_self": null,
            "border": null,
            "bottom": null,
            "display": null,
            "flex": null,
            "flex_flow": null,
            "grid_area": null,
            "grid_auto_columns": null,
            "grid_auto_flow": null,
            "grid_auto_rows": null,
            "grid_column": null,
            "grid_gap": null,
            "grid_row": null,
            "grid_template_areas": null,
            "grid_template_columns": null,
            "grid_template_rows": null,
            "height": null,
            "justify_content": null,
            "justify_items": null,
            "left": null,
            "margin": null,
            "max_height": null,
            "max_width": null,
            "min_height": null,
            "min_width": null,
            "object_fit": null,
            "object_position": null,
            "order": null,
            "overflow": null,
            "overflow_x": null,
            "overflow_y": null,
            "padding": null,
            "right": null,
            "top": null,
            "visibility": null,
            "width": null
          }
        },
        "c228f6cea280495b87b21926e80d31a4": {
          "model_module": "@jupyter-widgets/controls",
          "model_name": "ProgressStyleModel",
          "model_module_version": "1.5.0",
          "state": {
            "_model_module": "@jupyter-widgets/controls",
            "_model_module_version": "1.5.0",
            "_model_name": "ProgressStyleModel",
            "_view_count": null,
            "_view_module": "@jupyter-widgets/base",
            "_view_module_version": "1.2.0",
            "_view_name": "StyleView",
            "bar_color": null,
            "description_width": ""
          }
        },
        "23e06cae38b7491c91ac324fd2d93169": {
          "model_module": "@jupyter-widgets/base",
          "model_name": "LayoutModel",
          "model_module_version": "1.2.0",
          "state": {
            "_model_module": "@jupyter-widgets/base",
            "_model_module_version": "1.2.0",
            "_model_name": "LayoutModel",
            "_view_count": null,
            "_view_module": "@jupyter-widgets/base",
            "_view_module_version": "1.2.0",
            "_view_name": "LayoutView",
            "align_content": null,
            "align_items": null,
            "align_self": null,
            "border": null,
            "bottom": null,
            "display": null,
            "flex": null,
            "flex_flow": null,
            "grid_area": null,
            "grid_auto_columns": null,
            "grid_auto_flow": null,
            "grid_auto_rows": null,
            "grid_column": null,
            "grid_gap": null,
            "grid_row": null,
            "grid_template_areas": null,
            "grid_template_columns": null,
            "grid_template_rows": null,
            "height": null,
            "justify_content": null,
            "justify_items": null,
            "left": null,
            "margin": null,
            "max_height": null,
            "max_width": null,
            "min_height": null,
            "min_width": null,
            "object_fit": null,
            "object_position": null,
            "order": null,
            "overflow": null,
            "overflow_x": null,
            "overflow_y": null,
            "padding": null,
            "right": null,
            "top": null,
            "visibility": null,
            "width": null
          }
        },
        "86247fa62b554434a16bfb95757c7134": {
          "model_module": "@jupyter-widgets/controls",
          "model_name": "DescriptionStyleModel",
          "model_module_version": "1.5.0",
          "state": {
            "_model_module": "@jupyter-widgets/controls",
            "_model_module_version": "1.5.0",
            "_model_name": "DescriptionStyleModel",
            "_view_count": null,
            "_view_module": "@jupyter-widgets/base",
            "_view_module_version": "1.2.0",
            "_view_name": "StyleView",
            "description_width": ""
          }
        },
        "c190eef18ad849e78a4180bfa94949d5": {
          "model_module": "@jupyter-widgets/controls",
          "model_name": "HBoxModel",
          "model_module_version": "1.5.0",
          "state": {
            "_dom_classes": [],
            "_model_module": "@jupyter-widgets/controls",
            "_model_module_version": "1.5.0",
            "_model_name": "HBoxModel",
            "_view_count": null,
            "_view_module": "@jupyter-widgets/controls",
            "_view_module_version": "1.5.0",
            "_view_name": "HBoxView",
            "box_style": "",
            "children": [
              "IPY_MODEL_aa46082b57b84dd8a71a681204c7686c",
              "IPY_MODEL_7942c1eae66548d6b5cf513d38c1c8db",
              "IPY_MODEL_ba07e34eb273444594223e77f01d30ba"
            ],
            "layout": "IPY_MODEL_6fd17da535bb42a5846f14b515b7589c"
          }
        },
        "aa46082b57b84dd8a71a681204c7686c": {
          "model_module": "@jupyter-widgets/controls",
          "model_name": "HTMLModel",
          "model_module_version": "1.5.0",
          "state": {
            "_dom_classes": [],
            "_model_module": "@jupyter-widgets/controls",
            "_model_module_version": "1.5.0",
            "_model_name": "HTMLModel",
            "_view_count": null,
            "_view_module": "@jupyter-widgets/controls",
            "_view_module_version": "1.5.0",
            "_view_name": "HTMLView",
            "description": "",
            "description_tooltip": null,
            "layout": "IPY_MODEL_e1cf18e5a9f843f2b4ab3aecfd849cbe",
            "placeholder": "​",
            "style": "IPY_MODEL_e9f54bdab6374275bf012994247028f6",
            "value": ""
          }
        },
        "7942c1eae66548d6b5cf513d38c1c8db": {
          "model_module": "@jupyter-widgets/controls",
          "model_name": "FloatProgressModel",
          "model_module_version": "1.5.0",
          "state": {
            "_dom_classes": [],
            "_model_module": "@jupyter-widgets/controls",
            "_model_module_version": "1.5.0",
            "_model_name": "FloatProgressModel",
            "_view_count": null,
            "_view_module": "@jupyter-widgets/controls",
            "_view_module_version": "1.5.0",
            "_view_name": "ProgressView",
            "bar_style": "success",
            "description": "",
            "description_tooltip": null,
            "layout": "IPY_MODEL_85b1bb9e9b5b47bba162bfb3aa390b67",
            "max": 28881,
            "min": 0,
            "orientation": "horizontal",
            "style": "IPY_MODEL_d2c9070f7342434691692bc8c224f5d7",
            "value": 28881
          }
        },
        "ba07e34eb273444594223e77f01d30ba": {
          "model_module": "@jupyter-widgets/controls",
          "model_name": "HTMLModel",
          "model_module_version": "1.5.0",
          "state": {
            "_dom_classes": [],
            "_model_module": "@jupyter-widgets/controls",
            "_model_module_version": "1.5.0",
            "_model_name": "HTMLModel",
            "_view_count": null,
            "_view_module": "@jupyter-widgets/controls",
            "_view_module_version": "1.5.0",
            "_view_name": "HTMLView",
            "description": "",
            "description_tooltip": null,
            "layout": "IPY_MODEL_fa6ba9094b88459bab118d0a4dfb4c40",
            "placeholder": "​",
            "style": "IPY_MODEL_7fa174e573d84aa09817e82f51725d42",
            "value": " 29696/? [00:00&lt;00:00, 900685.90it/s]"
          }
        },
        "6fd17da535bb42a5846f14b515b7589c": {
          "model_module": "@jupyter-widgets/base",
          "model_name": "LayoutModel",
          "model_module_version": "1.2.0",
          "state": {
            "_model_module": "@jupyter-widgets/base",
            "_model_module_version": "1.2.0",
            "_model_name": "LayoutModel",
            "_view_count": null,
            "_view_module": "@jupyter-widgets/base",
            "_view_module_version": "1.2.0",
            "_view_name": "LayoutView",
            "align_content": null,
            "align_items": null,
            "align_self": null,
            "border": null,
            "bottom": null,
            "display": null,
            "flex": null,
            "flex_flow": null,
            "grid_area": null,
            "grid_auto_columns": null,
            "grid_auto_flow": null,
            "grid_auto_rows": null,
            "grid_column": null,
            "grid_gap": null,
            "grid_row": null,
            "grid_template_areas": null,
            "grid_template_columns": null,
            "grid_template_rows": null,
            "height": null,
            "justify_content": null,
            "justify_items": null,
            "left": null,
            "margin": null,
            "max_height": null,
            "max_width": null,
            "min_height": null,
            "min_width": null,
            "object_fit": null,
            "object_position": null,
            "order": null,
            "overflow": null,
            "overflow_x": null,
            "overflow_y": null,
            "padding": null,
            "right": null,
            "top": null,
            "visibility": null,
            "width": null
          }
        },
        "e1cf18e5a9f843f2b4ab3aecfd849cbe": {
          "model_module": "@jupyter-widgets/base",
          "model_name": "LayoutModel",
          "model_module_version": "1.2.0",
          "state": {
            "_model_module": "@jupyter-widgets/base",
            "_model_module_version": "1.2.0",
            "_model_name": "LayoutModel",
            "_view_count": null,
            "_view_module": "@jupyter-widgets/base",
            "_view_module_version": "1.2.0",
            "_view_name": "LayoutView",
            "align_content": null,
            "align_items": null,
            "align_self": null,
            "border": null,
            "bottom": null,
            "display": null,
            "flex": null,
            "flex_flow": null,
            "grid_area": null,
            "grid_auto_columns": null,
            "grid_auto_flow": null,
            "grid_auto_rows": null,
            "grid_column": null,
            "grid_gap": null,
            "grid_row": null,
            "grid_template_areas": null,
            "grid_template_columns": null,
            "grid_template_rows": null,
            "height": null,
            "justify_content": null,
            "justify_items": null,
            "left": null,
            "margin": null,
            "max_height": null,
            "max_width": null,
            "min_height": null,
            "min_width": null,
            "object_fit": null,
            "object_position": null,
            "order": null,
            "overflow": null,
            "overflow_x": null,
            "overflow_y": null,
            "padding": null,
            "right": null,
            "top": null,
            "visibility": null,
            "width": null
          }
        },
        "e9f54bdab6374275bf012994247028f6": {
          "model_module": "@jupyter-widgets/controls",
          "model_name": "DescriptionStyleModel",
          "model_module_version": "1.5.0",
          "state": {
            "_model_module": "@jupyter-widgets/controls",
            "_model_module_version": "1.5.0",
            "_model_name": "DescriptionStyleModel",
            "_view_count": null,
            "_view_module": "@jupyter-widgets/base",
            "_view_module_version": "1.2.0",
            "_view_name": "StyleView",
            "description_width": ""
          }
        },
        "85b1bb9e9b5b47bba162bfb3aa390b67": {
          "model_module": "@jupyter-widgets/base",
          "model_name": "LayoutModel",
          "model_module_version": "1.2.0",
          "state": {
            "_model_module": "@jupyter-widgets/base",
            "_model_module_version": "1.2.0",
            "_model_name": "LayoutModel",
            "_view_count": null,
            "_view_module": "@jupyter-widgets/base",
            "_view_module_version": "1.2.0",
            "_view_name": "LayoutView",
            "align_content": null,
            "align_items": null,
            "align_self": null,
            "border": null,
            "bottom": null,
            "display": null,
            "flex": null,
            "flex_flow": null,
            "grid_area": null,
            "grid_auto_columns": null,
            "grid_auto_flow": null,
            "grid_auto_rows": null,
            "grid_column": null,
            "grid_gap": null,
            "grid_row": null,
            "grid_template_areas": null,
            "grid_template_columns": null,
            "grid_template_rows": null,
            "height": null,
            "justify_content": null,
            "justify_items": null,
            "left": null,
            "margin": null,
            "max_height": null,
            "max_width": null,
            "min_height": null,
            "min_width": null,
            "object_fit": null,
            "object_position": null,
            "order": null,
            "overflow": null,
            "overflow_x": null,
            "overflow_y": null,
            "padding": null,
            "right": null,
            "top": null,
            "visibility": null,
            "width": null
          }
        },
        "d2c9070f7342434691692bc8c224f5d7": {
          "model_module": "@jupyter-widgets/controls",
          "model_name": "ProgressStyleModel",
          "model_module_version": "1.5.0",
          "state": {
            "_model_module": "@jupyter-widgets/controls",
            "_model_module_version": "1.5.0",
            "_model_name": "ProgressStyleModel",
            "_view_count": null,
            "_view_module": "@jupyter-widgets/base",
            "_view_module_version": "1.2.0",
            "_view_name": "StyleView",
            "bar_color": null,
            "description_width": ""
          }
        },
        "fa6ba9094b88459bab118d0a4dfb4c40": {
          "model_module": "@jupyter-widgets/base",
          "model_name": "LayoutModel",
          "model_module_version": "1.2.0",
          "state": {
            "_model_module": "@jupyter-widgets/base",
            "_model_module_version": "1.2.0",
            "_model_name": "LayoutModel",
            "_view_count": null,
            "_view_module": "@jupyter-widgets/base",
            "_view_module_version": "1.2.0",
            "_view_name": "LayoutView",
            "align_content": null,
            "align_items": null,
            "align_self": null,
            "border": null,
            "bottom": null,
            "display": null,
            "flex": null,
            "flex_flow": null,
            "grid_area": null,
            "grid_auto_columns": null,
            "grid_auto_flow": null,
            "grid_auto_rows": null,
            "grid_column": null,
            "grid_gap": null,
            "grid_row": null,
            "grid_template_areas": null,
            "grid_template_columns": null,
            "grid_template_rows": null,
            "height": null,
            "justify_content": null,
            "justify_items": null,
            "left": null,
            "margin": null,
            "max_height": null,
            "max_width": null,
            "min_height": null,
            "min_width": null,
            "object_fit": null,
            "object_position": null,
            "order": null,
            "overflow": null,
            "overflow_x": null,
            "overflow_y": null,
            "padding": null,
            "right": null,
            "top": null,
            "visibility": null,
            "width": null
          }
        },
        "7fa174e573d84aa09817e82f51725d42": {
          "model_module": "@jupyter-widgets/controls",
          "model_name": "DescriptionStyleModel",
          "model_module_version": "1.5.0",
          "state": {
            "_model_module": "@jupyter-widgets/controls",
            "_model_module_version": "1.5.0",
            "_model_name": "DescriptionStyleModel",
            "_view_count": null,
            "_view_module": "@jupyter-widgets/base",
            "_view_module_version": "1.2.0",
            "_view_name": "StyleView",
            "description_width": ""
          }
        },
        "ae0d6355388f4785877268e0e521dac3": {
          "model_module": "@jupyter-widgets/controls",
          "model_name": "HBoxModel",
          "model_module_version": "1.5.0",
          "state": {
            "_dom_classes": [],
            "_model_module": "@jupyter-widgets/controls",
            "_model_module_version": "1.5.0",
            "_model_name": "HBoxModel",
            "_view_count": null,
            "_view_module": "@jupyter-widgets/controls",
            "_view_module_version": "1.5.0",
            "_view_name": "HBoxView",
            "box_style": "",
            "children": [
              "IPY_MODEL_e70e0e6ebd33439497315e5a52875116",
              "IPY_MODEL_31baa7c07d324eff93441ee51f24a814",
              "IPY_MODEL_8cc2f5d065f8409c9307001555312303"
            ],
            "layout": "IPY_MODEL_2bb64ceec13e4bc096d4fd47f8ad5773"
          }
        },
        "e70e0e6ebd33439497315e5a52875116": {
          "model_module": "@jupyter-widgets/controls",
          "model_name": "HTMLModel",
          "model_module_version": "1.5.0",
          "state": {
            "_dom_classes": [],
            "_model_module": "@jupyter-widgets/controls",
            "_model_module_version": "1.5.0",
            "_model_name": "HTMLModel",
            "_view_count": null,
            "_view_module": "@jupyter-widgets/controls",
            "_view_module_version": "1.5.0",
            "_view_name": "HTMLView",
            "description": "",
            "description_tooltip": null,
            "layout": "IPY_MODEL_c06193f37e6c40a8808f6cee3ff57435",
            "placeholder": "​",
            "style": "IPY_MODEL_bb5d7cc0bbc848a89a205de8b6b30851",
            "value": ""
          }
        },
        "31baa7c07d324eff93441ee51f24a814": {
          "model_module": "@jupyter-widgets/controls",
          "model_name": "FloatProgressModel",
          "model_module_version": "1.5.0",
          "state": {
            "_dom_classes": [],
            "_model_module": "@jupyter-widgets/controls",
            "_model_module_version": "1.5.0",
            "_model_name": "FloatProgressModel",
            "_view_count": null,
            "_view_module": "@jupyter-widgets/controls",
            "_view_module_version": "1.5.0",
            "_view_name": "ProgressView",
            "bar_style": "success",
            "description": "",
            "description_tooltip": null,
            "layout": "IPY_MODEL_3f5e23d6d48540aab8e1b502cff4891e",
            "max": 1648877,
            "min": 0,
            "orientation": "horizontal",
            "style": "IPY_MODEL_2f4246b48dab42cebddf31b4f84db3d6",
            "value": 1648877
          }
        },
        "8cc2f5d065f8409c9307001555312303": {
          "model_module": "@jupyter-widgets/controls",
          "model_name": "HTMLModel",
          "model_module_version": "1.5.0",
          "state": {
            "_dom_classes": [],
            "_model_module": "@jupyter-widgets/controls",
            "_model_module_version": "1.5.0",
            "_model_name": "HTMLModel",
            "_view_count": null,
            "_view_module": "@jupyter-widgets/controls",
            "_view_module_version": "1.5.0",
            "_view_name": "HTMLView",
            "description": "",
            "description_tooltip": null,
            "layout": "IPY_MODEL_5863cfa38d60420e9defc0395f60e7ec",
            "placeholder": "​",
            "style": "IPY_MODEL_5fba9f2f5a714dd9a8dd0680cfc58d08",
            "value": " 1649664/? [00:00&lt;00:00, 17942381.41it/s]"
          }
        },
        "2bb64ceec13e4bc096d4fd47f8ad5773": {
          "model_module": "@jupyter-widgets/base",
          "model_name": "LayoutModel",
          "model_module_version": "1.2.0",
          "state": {
            "_model_module": "@jupyter-widgets/base",
            "_model_module_version": "1.2.0",
            "_model_name": "LayoutModel",
            "_view_count": null,
            "_view_module": "@jupyter-widgets/base",
            "_view_module_version": "1.2.0",
            "_view_name": "LayoutView",
            "align_content": null,
            "align_items": null,
            "align_self": null,
            "border": null,
            "bottom": null,
            "display": null,
            "flex": null,
            "flex_flow": null,
            "grid_area": null,
            "grid_auto_columns": null,
            "grid_auto_flow": null,
            "grid_auto_rows": null,
            "grid_column": null,
            "grid_gap": null,
            "grid_row": null,
            "grid_template_areas": null,
            "grid_template_columns": null,
            "grid_template_rows": null,
            "height": null,
            "justify_content": null,
            "justify_items": null,
            "left": null,
            "margin": null,
            "max_height": null,
            "max_width": null,
            "min_height": null,
            "min_width": null,
            "object_fit": null,
            "object_position": null,
            "order": null,
            "overflow": null,
            "overflow_x": null,
            "overflow_y": null,
            "padding": null,
            "right": null,
            "top": null,
            "visibility": null,
            "width": null
          }
        },
        "c06193f37e6c40a8808f6cee3ff57435": {
          "model_module": "@jupyter-widgets/base",
          "model_name": "LayoutModel",
          "model_module_version": "1.2.0",
          "state": {
            "_model_module": "@jupyter-widgets/base",
            "_model_module_version": "1.2.0",
            "_model_name": "LayoutModel",
            "_view_count": null,
            "_view_module": "@jupyter-widgets/base",
            "_view_module_version": "1.2.0",
            "_view_name": "LayoutView",
            "align_content": null,
            "align_items": null,
            "align_self": null,
            "border": null,
            "bottom": null,
            "display": null,
            "flex": null,
            "flex_flow": null,
            "grid_area": null,
            "grid_auto_columns": null,
            "grid_auto_flow": null,
            "grid_auto_rows": null,
            "grid_column": null,
            "grid_gap": null,
            "grid_row": null,
            "grid_template_areas": null,
            "grid_template_columns": null,
            "grid_template_rows": null,
            "height": null,
            "justify_content": null,
            "justify_items": null,
            "left": null,
            "margin": null,
            "max_height": null,
            "max_width": null,
            "min_height": null,
            "min_width": null,
            "object_fit": null,
            "object_position": null,
            "order": null,
            "overflow": null,
            "overflow_x": null,
            "overflow_y": null,
            "padding": null,
            "right": null,
            "top": null,
            "visibility": null,
            "width": null
          }
        },
        "bb5d7cc0bbc848a89a205de8b6b30851": {
          "model_module": "@jupyter-widgets/controls",
          "model_name": "DescriptionStyleModel",
          "model_module_version": "1.5.0",
          "state": {
            "_model_module": "@jupyter-widgets/controls",
            "_model_module_version": "1.5.0",
            "_model_name": "DescriptionStyleModel",
            "_view_count": null,
            "_view_module": "@jupyter-widgets/base",
            "_view_module_version": "1.2.0",
            "_view_name": "StyleView",
            "description_width": ""
          }
        },
        "3f5e23d6d48540aab8e1b502cff4891e": {
          "model_module": "@jupyter-widgets/base",
          "model_name": "LayoutModel",
          "model_module_version": "1.2.0",
          "state": {
            "_model_module": "@jupyter-widgets/base",
            "_model_module_version": "1.2.0",
            "_model_name": "LayoutModel",
            "_view_count": null,
            "_view_module": "@jupyter-widgets/base",
            "_view_module_version": "1.2.0",
            "_view_name": "LayoutView",
            "align_content": null,
            "align_items": null,
            "align_self": null,
            "border": null,
            "bottom": null,
            "display": null,
            "flex": null,
            "flex_flow": null,
            "grid_area": null,
            "grid_auto_columns": null,
            "grid_auto_flow": null,
            "grid_auto_rows": null,
            "grid_column": null,
            "grid_gap": null,
            "grid_row": null,
            "grid_template_areas": null,
            "grid_template_columns": null,
            "grid_template_rows": null,
            "height": null,
            "justify_content": null,
            "justify_items": null,
            "left": null,
            "margin": null,
            "max_height": null,
            "max_width": null,
            "min_height": null,
            "min_width": null,
            "object_fit": null,
            "object_position": null,
            "order": null,
            "overflow": null,
            "overflow_x": null,
            "overflow_y": null,
            "padding": null,
            "right": null,
            "top": null,
            "visibility": null,
            "width": null
          }
        },
        "2f4246b48dab42cebddf31b4f84db3d6": {
          "model_module": "@jupyter-widgets/controls",
          "model_name": "ProgressStyleModel",
          "model_module_version": "1.5.0",
          "state": {
            "_model_module": "@jupyter-widgets/controls",
            "_model_module_version": "1.5.0",
            "_model_name": "ProgressStyleModel",
            "_view_count": null,
            "_view_module": "@jupyter-widgets/base",
            "_view_module_version": "1.2.0",
            "_view_name": "StyleView",
            "bar_color": null,
            "description_width": ""
          }
        },
        "5863cfa38d60420e9defc0395f60e7ec": {
          "model_module": "@jupyter-widgets/base",
          "model_name": "LayoutModel",
          "model_module_version": "1.2.0",
          "state": {
            "_model_module": "@jupyter-widgets/base",
            "_model_module_version": "1.2.0",
            "_model_name": "LayoutModel",
            "_view_count": null,
            "_view_module": "@jupyter-widgets/base",
            "_view_module_version": "1.2.0",
            "_view_name": "LayoutView",
            "align_content": null,
            "align_items": null,
            "align_self": null,
            "border": null,
            "bottom": null,
            "display": null,
            "flex": null,
            "flex_flow": null,
            "grid_area": null,
            "grid_auto_columns": null,
            "grid_auto_flow": null,
            "grid_auto_rows": null,
            "grid_column": null,
            "grid_gap": null,
            "grid_row": null,
            "grid_template_areas": null,
            "grid_template_columns": null,
            "grid_template_rows": null,
            "height": null,
            "justify_content": null,
            "justify_items": null,
            "left": null,
            "margin": null,
            "max_height": null,
            "max_width": null,
            "min_height": null,
            "min_width": null,
            "object_fit": null,
            "object_position": null,
            "order": null,
            "overflow": null,
            "overflow_x": null,
            "overflow_y": null,
            "padding": null,
            "right": null,
            "top": null,
            "visibility": null,
            "width": null
          }
        },
        "5fba9f2f5a714dd9a8dd0680cfc58d08": {
          "model_module": "@jupyter-widgets/controls",
          "model_name": "DescriptionStyleModel",
          "model_module_version": "1.5.0",
          "state": {
            "_model_module": "@jupyter-widgets/controls",
            "_model_module_version": "1.5.0",
            "_model_name": "DescriptionStyleModel",
            "_view_count": null,
            "_view_module": "@jupyter-widgets/base",
            "_view_module_version": "1.2.0",
            "_view_name": "StyleView",
            "description_width": ""
          }
        },
        "972b26e6bf3e48f58d091f2ebe44a2a8": {
          "model_module": "@jupyter-widgets/controls",
          "model_name": "HBoxModel",
          "model_module_version": "1.5.0",
          "state": {
            "_dom_classes": [],
            "_model_module": "@jupyter-widgets/controls",
            "_model_module_version": "1.5.0",
            "_model_name": "HBoxModel",
            "_view_count": null,
            "_view_module": "@jupyter-widgets/controls",
            "_view_module_version": "1.5.0",
            "_view_name": "HBoxView",
            "box_style": "",
            "children": [
              "IPY_MODEL_f2a0e4e21c194844b33e93c85ce2c71e",
              "IPY_MODEL_ac1b125b11c348149018fabac4daebc7",
              "IPY_MODEL_e5ec0d9cb33b4aef97d5b5a9b003a897"
            ],
            "layout": "IPY_MODEL_0060d2f3a287437eacca0a424bba2144"
          }
        },
        "f2a0e4e21c194844b33e93c85ce2c71e": {
          "model_module": "@jupyter-widgets/controls",
          "model_name": "HTMLModel",
          "model_module_version": "1.5.0",
          "state": {
            "_dom_classes": [],
            "_model_module": "@jupyter-widgets/controls",
            "_model_module_version": "1.5.0",
            "_model_name": "HTMLModel",
            "_view_count": null,
            "_view_module": "@jupyter-widgets/controls",
            "_view_module_version": "1.5.0",
            "_view_name": "HTMLView",
            "description": "",
            "description_tooltip": null,
            "layout": "IPY_MODEL_d847e4d4b6df4b098a4beca1bfcda10f",
            "placeholder": "​",
            "style": "IPY_MODEL_efedf81f73d243388b1f69843a152856",
            "value": ""
          }
        },
        "ac1b125b11c348149018fabac4daebc7": {
          "model_module": "@jupyter-widgets/controls",
          "model_name": "FloatProgressModel",
          "model_module_version": "1.5.0",
          "state": {
            "_dom_classes": [],
            "_model_module": "@jupyter-widgets/controls",
            "_model_module_version": "1.5.0",
            "_model_name": "FloatProgressModel",
            "_view_count": null,
            "_view_module": "@jupyter-widgets/controls",
            "_view_module_version": "1.5.0",
            "_view_name": "ProgressView",
            "bar_style": "success",
            "description": "",
            "description_tooltip": null,
            "layout": "IPY_MODEL_ec554ee216fe46169db471ffd796a029",
            "max": 4542,
            "min": 0,
            "orientation": "horizontal",
            "style": "IPY_MODEL_1a3edf9a03df4d1688b115680d818663",
            "value": 4542
          }
        },
        "e5ec0d9cb33b4aef97d5b5a9b003a897": {
          "model_module": "@jupyter-widgets/controls",
          "model_name": "HTMLModel",
          "model_module_version": "1.5.0",
          "state": {
            "_dom_classes": [],
            "_model_module": "@jupyter-widgets/controls",
            "_model_module_version": "1.5.0",
            "_model_name": "HTMLModel",
            "_view_count": null,
            "_view_module": "@jupyter-widgets/controls",
            "_view_module_version": "1.5.0",
            "_view_name": "HTMLView",
            "description": "",
            "description_tooltip": null,
            "layout": "IPY_MODEL_564d4a92bd49436984f8b3c0c44dd3ae",
            "placeholder": "​",
            "style": "IPY_MODEL_9f21d3ad69dd4d6c95904072bc4fa36d",
            "value": " 5120/? [00:00&lt;00:00, 165949.31it/s]"
          }
        },
        "0060d2f3a287437eacca0a424bba2144": {
          "model_module": "@jupyter-widgets/base",
          "model_name": "LayoutModel",
          "model_module_version": "1.2.0",
          "state": {
            "_model_module": "@jupyter-widgets/base",
            "_model_module_version": "1.2.0",
            "_model_name": "LayoutModel",
            "_view_count": null,
            "_view_module": "@jupyter-widgets/base",
            "_view_module_version": "1.2.0",
            "_view_name": "LayoutView",
            "align_content": null,
            "align_items": null,
            "align_self": null,
            "border": null,
            "bottom": null,
            "display": null,
            "flex": null,
            "flex_flow": null,
            "grid_area": null,
            "grid_auto_columns": null,
            "grid_auto_flow": null,
            "grid_auto_rows": null,
            "grid_column": null,
            "grid_gap": null,
            "grid_row": null,
            "grid_template_areas": null,
            "grid_template_columns": null,
            "grid_template_rows": null,
            "height": null,
            "justify_content": null,
            "justify_items": null,
            "left": null,
            "margin": null,
            "max_height": null,
            "max_width": null,
            "min_height": null,
            "min_width": null,
            "object_fit": null,
            "object_position": null,
            "order": null,
            "overflow": null,
            "overflow_x": null,
            "overflow_y": null,
            "padding": null,
            "right": null,
            "top": null,
            "visibility": null,
            "width": null
          }
        },
        "d847e4d4b6df4b098a4beca1bfcda10f": {
          "model_module": "@jupyter-widgets/base",
          "model_name": "LayoutModel",
          "model_module_version": "1.2.0",
          "state": {
            "_model_module": "@jupyter-widgets/base",
            "_model_module_version": "1.2.0",
            "_model_name": "LayoutModel",
            "_view_count": null,
            "_view_module": "@jupyter-widgets/base",
            "_view_module_version": "1.2.0",
            "_view_name": "LayoutView",
            "align_content": null,
            "align_items": null,
            "align_self": null,
            "border": null,
            "bottom": null,
            "display": null,
            "flex": null,
            "flex_flow": null,
            "grid_area": null,
            "grid_auto_columns": null,
            "grid_auto_flow": null,
            "grid_auto_rows": null,
            "grid_column": null,
            "grid_gap": null,
            "grid_row": null,
            "grid_template_areas": null,
            "grid_template_columns": null,
            "grid_template_rows": null,
            "height": null,
            "justify_content": null,
            "justify_items": null,
            "left": null,
            "margin": null,
            "max_height": null,
            "max_width": null,
            "min_height": null,
            "min_width": null,
            "object_fit": null,
            "object_position": null,
            "order": null,
            "overflow": null,
            "overflow_x": null,
            "overflow_y": null,
            "padding": null,
            "right": null,
            "top": null,
            "visibility": null,
            "width": null
          }
        },
        "efedf81f73d243388b1f69843a152856": {
          "model_module": "@jupyter-widgets/controls",
          "model_name": "DescriptionStyleModel",
          "model_module_version": "1.5.0",
          "state": {
            "_model_module": "@jupyter-widgets/controls",
            "_model_module_version": "1.5.0",
            "_model_name": "DescriptionStyleModel",
            "_view_count": null,
            "_view_module": "@jupyter-widgets/base",
            "_view_module_version": "1.2.0",
            "_view_name": "StyleView",
            "description_width": ""
          }
        },
        "ec554ee216fe46169db471ffd796a029": {
          "model_module": "@jupyter-widgets/base",
          "model_name": "LayoutModel",
          "model_module_version": "1.2.0",
          "state": {
            "_model_module": "@jupyter-widgets/base",
            "_model_module_version": "1.2.0",
            "_model_name": "LayoutModel",
            "_view_count": null,
            "_view_module": "@jupyter-widgets/base",
            "_view_module_version": "1.2.0",
            "_view_name": "LayoutView",
            "align_content": null,
            "align_items": null,
            "align_self": null,
            "border": null,
            "bottom": null,
            "display": null,
            "flex": null,
            "flex_flow": null,
            "grid_area": null,
            "grid_auto_columns": null,
            "grid_auto_flow": null,
            "grid_auto_rows": null,
            "grid_column": null,
            "grid_gap": null,
            "grid_row": null,
            "grid_template_areas": null,
            "grid_template_columns": null,
            "grid_template_rows": null,
            "height": null,
            "justify_content": null,
            "justify_items": null,
            "left": null,
            "margin": null,
            "max_height": null,
            "max_width": null,
            "min_height": null,
            "min_width": null,
            "object_fit": null,
            "object_position": null,
            "order": null,
            "overflow": null,
            "overflow_x": null,
            "overflow_y": null,
            "padding": null,
            "right": null,
            "top": null,
            "visibility": null,
            "width": null
          }
        },
        "1a3edf9a03df4d1688b115680d818663": {
          "model_module": "@jupyter-widgets/controls",
          "model_name": "ProgressStyleModel",
          "model_module_version": "1.5.0",
          "state": {
            "_model_module": "@jupyter-widgets/controls",
            "_model_module_version": "1.5.0",
            "_model_name": "ProgressStyleModel",
            "_view_count": null,
            "_view_module": "@jupyter-widgets/base",
            "_view_module_version": "1.2.0",
            "_view_name": "StyleView",
            "bar_color": null,
            "description_width": ""
          }
        },
        "564d4a92bd49436984f8b3c0c44dd3ae": {
          "model_module": "@jupyter-widgets/base",
          "model_name": "LayoutModel",
          "model_module_version": "1.2.0",
          "state": {
            "_model_module": "@jupyter-widgets/base",
            "_model_module_version": "1.2.0",
            "_model_name": "LayoutModel",
            "_view_count": null,
            "_view_module": "@jupyter-widgets/base",
            "_view_module_version": "1.2.0",
            "_view_name": "LayoutView",
            "align_content": null,
            "align_items": null,
            "align_self": null,
            "border": null,
            "bottom": null,
            "display": null,
            "flex": null,
            "flex_flow": null,
            "grid_area": null,
            "grid_auto_columns": null,
            "grid_auto_flow": null,
            "grid_auto_rows": null,
            "grid_column": null,
            "grid_gap": null,
            "grid_row": null,
            "grid_template_areas": null,
            "grid_template_columns": null,
            "grid_template_rows": null,
            "height": null,
            "justify_content": null,
            "justify_items": null,
            "left": null,
            "margin": null,
            "max_height": null,
            "max_width": null,
            "min_height": null,
            "min_width": null,
            "object_fit": null,
            "object_position": null,
            "order": null,
            "overflow": null,
            "overflow_x": null,
            "overflow_y": null,
            "padding": null,
            "right": null,
            "top": null,
            "visibility": null,
            "width": null
          }
        },
        "9f21d3ad69dd4d6c95904072bc4fa36d": {
          "model_module": "@jupyter-widgets/controls",
          "model_name": "DescriptionStyleModel",
          "model_module_version": "1.5.0",
          "state": {
            "_model_module": "@jupyter-widgets/controls",
            "_model_module_version": "1.5.0",
            "_model_name": "DescriptionStyleModel",
            "_view_count": null,
            "_view_module": "@jupyter-widgets/base",
            "_view_module_version": "1.2.0",
            "_view_name": "StyleView",
            "description_width": ""
          }
        }
      }
    }
  },
  "nbformat": 4,
  "nbformat_minor": 0
}